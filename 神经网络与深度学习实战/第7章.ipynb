{
 "cells": [
  {
   "cell_type": "code",
   "execution_count": null,
   "outputs": [],
   "source": [
    "def conv_(img, conv_filter):\n",
    "    filter_size = conv_filter.shape[1]\n",
    "    result = numpy.zeros((img.shape))\n",
    "    print('loop r: ', numpy.uint16(numpy.arange(filter_size/2.0,\n",
    "                          img.shape[0]-filter_size/2.0+1)))\n",
    "    #Looping through the image to apply the convolution operation.\n",
    "    for r in numpy.uint16(numpy.arange(filter_size/2.0,\n",
    "                          img.shape[0]-filter_size/2.0+1)):\n",
    "        for c in numpy.uint16(numpy.arange(filter_size/2.0,\n",
    "                                           img.shape[1]-filter_size/2.0+1)):\n",
    "           # Getting the current region to get multiplied with the filter.\n",
    "            # How to loop through the image and get the region based on\n",
    "            # the image and filer sizes is the most tricky part of convolution.\n",
    "            curr_region = img[r-numpy.uint16(numpy.floor(filter_size/2.0)):r+numpy.uint16(numpy.ceil(filter_size/2.0)),\n",
    "                              c-numpy.uint16(numpy.floor(filter_size/2.0)):c+numpy.uint16(numpy.ceil(filter_size/2.0))]\n",
    "            #Element-wise multiplication between the current region and the filter.\n",
    "            curr_result = curr_region * conv_filter\n",
    "            conv_sum = numpy.sum(curr_result) #Summing the result of multiplication.\n",
    "            result[r, c] = conv_sum\n",
    "            #Saving the summation in the convolution layer feature map.\n",
    "            #Clipping the outliers of the result matrix.\n",
    "    print('result: ', result)\n",
    "    final_result = result[numpy.uint16(filter_size/2.0):result.shape[0]- numpy.uint16(filter_size/2.0),\n",
    "                          numpy.uint16(filter_size/2.0):result.shape[1]- numpy.uint16(filter_size/2.0)]\n",
    "    return final_result\n",
    "  \n",
    "def  convolution(img, conv_filter):\n",
    "  '''\n",
    "  如果图片的规格为[img_height, img_width],过滤器规格为[filter_height, filter_width]\n",
    "  那么在水平方向上横向移动过滤器进行卷积运算的次数为img_width - filter_width +1.\n",
    "  在竖直方向上竖直移动过滤器进行卷积运算次数为image_hieght - filter_height + 1\n",
    "  '''\n",
    "  move_steps_vertical = img.shape[0] - conv_filter.shape[0] + 1\n",
    "  move_steps_horizontal = img.shape[1] - conv_filter.shape[1] + 1\n",
    "  \n",
    "  result = numpy.zeros((move_steps_vertical, move_steps_horizontal))\n",
    " \n",
    "  for vertical_index in range(move_steps_vertical):\n",
    "    for horizontal_index in range(move_steps_horizontal):\n",
    "      '''\n",
    "      先从最顶端开始，选取3*3小块与过滤器进行卷积运算，然后在水平方向平移一个单位。\n",
    "      当水平移动抵达最右边后，返回到最左边但是往下挪到一个单位，再重复上面步骤进行\n",
    "      卷积运算\n",
    "      '''\n",
    "      region = img[vertical_index : vertical_index + conv_filter.shape[0],\n",
    "                  horizontal_index : horizontal_index + conv_filter.shape[1]]\n",
    "      \n",
    "      #调试时可以反注释下面两条语句以理解代码逻辑\n",
    "      #print('region index: ', vertical_index, horizontal_index)\n",
    "      #print('current region: ', region)\n",
    "      \n",
    "      current_result = region * conv_filter\n",
    "      conv_sum = np.sum(current_result)\n",
    "      if conv_sum < 0:\n",
    "        conv_sum = 0\n",
    "      result[vertical_index, horizontal_index] = conv_sum\n",
    "      \n",
    "  return result \n",
    "      \n",
    "      "
   ],
   "metadata": {
    "collapsed": false,
    "pycharm": {
     "name": "#%%\n"
    }
   }
  },
  {
   "cell_type": "code",
   "execution_count": null,
   "outputs": [],
   "source": [
    "from google.colab import drive\n",
    "drive.mount('/content/gdrive')"
   ],
   "metadata": {
    "collapsed": false,
    "pycharm": {
     "name": "#%%\n"
    }
   }
  },
  {
   "cell_type": "code",
   "execution_count": null,
   "outputs": [],
   "source": [
    "import numpy as np\n",
    "import numpy\n",
    "\n",
    "img = np.array([\n",
    "    [10, 10, 10, 0, 0 ,0],\n",
    "    [10, 10, 10, 0, 0 ,0],\n",
    "    [10, 10, 10, 0, 0 ,0],\n",
    "    [10, 10, 10, 0, 0 ,0],\n",
    "    [10, 10, 10, 0, 0 ,0],\n",
    "    [10, 10, 10, 0, 0 ,0],\n",
    "])\n",
    "\n",
    "filter = np.array(\n",
    "    [\n",
    "        [1, 0, -1],\n",
    "        [1, 0, -1],\n",
    "        [1, 0, -1],\n",
    "    ]\n",
    "  \n",
    ")\n",
    "\n",
    "filter1 = np.array(\n",
    "    [\n",
    "        [1, 1, 1],\n",
    "        [0, 0, 0],\n",
    "        [-1, -1, -1],\n",
    "    ]\n",
    "  \n",
    ")\n",
    "\n",
    "conv_img = convolution(img, filter)\n",
    "print(conv_img)\n",
    "\n",
    "img = np.array([\n",
    "    [10, 10, 10, 10, 10 ,10],\n",
    "    [10, 0, 0, 0, 0 ,0],\n",
    "    [10, 0, 0, 0, 0 ,0],\n",
    "    [10, 10, 10, 0, 0 ,0],\n",
    "    [10, 10, 10, 0, 0 ,0],\n",
    "    [10, 10, 10, 0, 0 ,0],\n",
    "])\n",
    "\n",
    "conv_img = convolution(img, filter1)\n",
    "print(conv_img)"
   ],
   "metadata": {
    "collapsed": false,
    "pycharm": {
     "name": "#%%\n"
    }
   }
  },
  {
   "cell_type": "code",
   "execution_count": null,
   "outputs": [],
   "source": [
    "#加载图片，并将图片转换为像素点只包含一个数值的灰度图\n",
    "import  skimage.data\n",
    "\n",
    "\n",
    "image_path = '/content/gdrive/My Drive/dog.jpg'\n",
    "#加载图片同时将RGB图片转换为灰度图\n",
    "img = skimage.data.load(image_path, as_grey = True)\n",
    "\n",
    "\n",
    "\n",
    "import matplotlib\n",
    "from matplotlib import pyplot as plt\n",
    "plt.axis('off')\n",
    "plt.imshow(img)\n",
    "plt.show()"
   ],
   "metadata": {
    "collapsed": false,
    "pycharm": {
     "name": "#%%\n"
    }
   }
  },
  {
   "cell_type": "code",
   "execution_count": null,
   "outputs": [],
   "source": [
    "#准备两个过滤器，每个过滤器的规格为（3，3）\n",
    "filters = np.array([\n",
    "    [\n",
    "        [-1, 0, 1],\n",
    "        [-1, 0, 1],\n",
    "        [-1, 0, 1]\n",
    "    ],\n",
    "    [\n",
    "        [1, 1, 1],\n",
    "        [0, 0, 0],\n",
    "        [-1, -1, -1]\n",
    "    ]\n",
    "])\n",
    "\n",
    "def  convolution(img, conv_filter):\n",
    "  '''\n",
    "  如果图片的规格为[img_height, img_width],过滤器规格为[filter_height, filter_width]\n",
    "  那么在水平方向上横向移动进行卷积运算的次数为img_width - filter_width +1.\n",
    "  在竖直方向上竖直移动进行卷积运算次数为image_hieght - filter_height + 1\n",
    "  '''\n",
    "  move_steps_vertical = img.shape[0] - conv_filter.shape[0] + 1\n",
    "  move_steps_horizontal = img.shape[1] - conv_filter.shape[1] + 1\n",
    "  \n",
    "  result = numpy.zeros((move_steps_vertical, move_steps_horizontal))\n",
    " \n",
    "  for vertical_index in range(move_steps_vertical):\n",
    "    for horizontal_index in range(move_steps_horizontal):\n",
    "      '''\n",
    "      先从最顶端开始，选取3*3小块与运算参数进行卷积运算，然后在水平方向平移一个单位。\n",
    "      当水平移动抵达最右边后，返回到最左边但是往下挪到一个单位，再重复上面步骤进行\n",
    "      卷积运算\n",
    "      '''\n",
    "      region = img[vertical_index : vertical_index + conv_filter.shape[0],\n",
    "                  horizontal_index : horizontal_index + conv_filter.shape[1]]\n",
    "      \n",
    "       \n",
    "      current_result = region * conv_filter\n",
    "      conv_sum = np.sum(current_result)\n",
    "      \n",
    "      #注意这里去掉了conv_sum < 0判断，因为在后面的激活函数实现中会处理这个问题\n",
    "      \n",
    "      result[vertical_index, horizontal_index] = conv_sum\n",
    "      \n",
    "  return result \n",
    "\n",
    "def  conv(img, conv_filter):\n",
    "  '''\n",
    "  #将过滤器依次作用到图像数组上\n",
    "  '''\n",
    "  #feature_map是运算参数作用到图片上后得到的结果\n",
    "  feature_maps = np.zeros((img.shape[0] - conv_filter.shape[1] + 1 , \n",
    "                           img.shape[1] - conv_filter.shape[1] + 1,\n",
    "                           conv_filter.shape[0]))\n",
    "  for filter_num in range(conv_filter.shape[0]):\n",
    "    curr_filter = conv_filter[filter_num, :]\n",
    "    conv_map = convolution(img, curr_filter)\n",
    "    feature_maps[:,:, filter_num] = conv_map\n",
    "    \n",
    "  return feature_maps\n",
    "\n",
    "\n",
    "  "
   ],
   "metadata": {
    "collapsed": false,
    "pycharm": {
     "name": "#%%\n"
    }
   }
  },
  {
   "cell_type": "code",
   "execution_count": null,
   "outputs": [],
   "source": [
    "image_path = '/content/gdrive/My Drive/dog.jpg'\n",
    "#加载图片同时将RGB图片转换为灰度图\n",
    "img = skimage.data.load(image_path, as_grey = True)\n",
    "#将两组运算参数作用到加载的灰度图上\n",
    "l1_feature_map = conv(img, filters)\n",
    "\n",
    "#显示第一组运算参数作用到图片上的结果，它抽取图片中物体的竖直边缘\n",
    "fig1, ax1 = matplotlib.pyplot.subplots(nrows=1, ncols=2)\n",
    "ax1[0].imshow(l1_feature_map[:, :, 0]).set_cmap(\"gray\")\n",
    "ax1[0].get_xaxis().set_ticks([])\n",
    "ax1[0].get_yaxis().set_ticks([])\n",
    "ax1[0].set_title(\"L1-Map1\")\n",
    "\n",
    "#显示第二组运算参数作用到图片上的结果，它抽取图片中物体的水平边缘\n",
    "ax1[1].imshow(l1_feature_map[:, :, 1]).set_cmap(\"gray\")\n",
    "ax1[1].get_xaxis().set_ticks([])\n",
    "ax1[1].get_yaxis().set_ticks([])\n",
    "ax1[1].set_title(\"L1-Map2\")"
   ],
   "metadata": {
    "collapsed": false,
    "pycharm": {
     "name": "#%%\n"
    }
   }
  },
  {
   "cell_type": "code",
   "execution_count": null,
   "outputs": [],
   "source": [
    "'''\n",
    "模拟relu运算，它的逻辑简单，如果给定数值小于0，那就将它设置为0，如果大于0，那就保持不变\n",
    "'''\n",
    "def  relu(feature_map):\n",
    "  relu_out = np.zeros(feature_map.shape)\n",
    "  for map_num in range(feature_map.shape[-1]):\n",
    "    for r in np.arange(0, feature_map.shape[0]):\n",
    "      for c in np.arange(0, feature_map.shape[1]):\n",
    "        relu_out[r, c, map_num] = np.max([feature_map[r, c, map_num], 0])\n",
    "        \n",
    "  return relu_out"
   ],
   "metadata": {
    "collapsed": false,
    "pycharm": {
     "name": "#%%\n"
    }
   }
  },
  {
   "cell_type": "code",
   "execution_count": null,
   "outputs": [],
   "source": [
    "#显示第一幅图relu运算后的结果\n",
    "fig1, ax1 = matplotlib.pyplot.subplots(nrows=1, ncols=2)\n",
    "reluMap = relu(l1_feature_map)\n",
    "ax1[0].imshow(reluMap[:, :, 0]).set_cmap(\"gray\")\n",
    "ax1[0].get_xaxis().set_ticks([])\n",
    "ax1[0].get_yaxis().set_ticks([])\n",
    "ax1[0].set_title(\"L1-MapRelu1\")\n",
    "\n",
    "#显示第二幅图relu运算后结果的结果\n",
    "ax1[1].imshow(reluMap[:, :, 1]).set_cmap(\"gray\")\n",
    "ax1[1].get_xaxis().set_ticks([])\n",
    "ax1[1].get_yaxis().set_ticks([])\n",
    "ax1[1].set_title(\"L1-MapRelu2\")"
   ],
   "metadata": {
    "collapsed": false,
    "pycharm": {
     "name": "#%%\n"
    }
   }
  },
  {
   "cell_type": "code",
   "execution_count": null,
   "outputs": [],
   "source": [
    "'''\n",
    "模拟MaxPooling操作实现数据压缩\n",
    "'''\n",
    "def  pooling(feature_map, size = 2, stride = 2):\n",
    "  #size表示将上下左右4个元素进行比较，每次操作在水平和竖直方向上移动2个单位\n",
    "  pool_out_height = np.uint16((feature_map.shape[0] - size + 1) / stride + 1) \n",
    "  pool_out_width = np.uint16((feature_map.shape[1] - size + 1) / stride + 1)\n",
    "  \n",
    "  pool_out = np.zeros((pool_out_height, pool_out_width, feature_map.shape[-1]))\n",
    "  \n",
    "  #现在水平方向上平移，每次间隔2个单位，然后在竖直方向平移，每次间隔2个单位\n",
    "  for map_num in range(feature_map.shape[-1]):\n",
    "    r2 = 0\n",
    "    for r in np.arange(0, feature_map.shape[0] - size + 1, stride):\n",
    "      c2 = 0\n",
    "      for c in np.arange(0, feature_map.shape[1] - size + 1, stride):\n",
    "        pool_out[r2, c2, map_num] = np.max([feature_map[r : r + size,\n",
    "                                                       c: c + size,\n",
    "                                                       map_num]])\n",
    "        c2 = c2 + 1\n",
    "        \n",
    "      r2 = r2 + 1\n",
    "      \n",
    "  return  pool_out"
   ],
   "metadata": {
    "collapsed": false,
    "pycharm": {
     "name": "#%%\n"
    }
   }
  },
  {
   "cell_type": "code",
   "execution_count": null,
   "outputs": [],
   "source": [
    "#显示第一幅图relu运算,再做max pooling结果\n",
    "fig1, ax1 = matplotlib.pyplot.subplots(nrows=1, ncols=2)\n",
    "poolingMap = pooling(reluMap)\n",
    "ax1[0].imshow(poolingMap[:, :, 0]).set_cmap(\"gray\")\n",
    "ax1[0].get_xaxis().set_ticks([])\n",
    "ax1[0].get_yaxis().set_ticks([])\n",
    "ax1[0].set_title(\"L1-pooling1\")\n",
    "\n",
    "#显示第二幅图relu运算后，再做max pooling结果的结果\n",
    "ax1[1].imshow(poolingMap[:, :, 1]).set_cmap(\"gray\")\n",
    "ax1[1].get_xaxis().set_ticks([])\n",
    "ax1[1].get_yaxis().set_ticks([])\n",
    "ax1[1].set_title(\"L1-pooling2\")"
   ],
   "metadata": {
    "collapsed": false,
    "pycharm": {
     "name": "#%%\n"
    }
   }
  },
  {
   "cell_type": "code",
   "execution_count": null,
   "outputs": [],
   "source": [
    "filters2 = np.random.rand(2, 5, 5)\n",
    "print('adding conv layer 2')\n",
    "feature_map_2 = conv(poolingMap[:,:, 0], filters2)\n",
    "print('ReLU')\n",
    "relu_map_2 = relu(feature_map_2)\n",
    "print('max pooling')\n",
    "poolingMap_2 = pooling(relu_map_2)\n",
    "print('End of conv layer 2')"
   ],
   "metadata": {
    "collapsed": false,
    "pycharm": {
     "name": "#%%\n"
    }
   }
  },
  {
   "cell_type": "code",
   "execution_count": null,
   "outputs": [],
   "source": [
    "#显示第二层卷积层运算后第一幅图\n",
    "fig1, ax1 = matplotlib.pyplot.subplots(nrows=1, ncols=2)\n",
    "\n",
    "ax1[0].imshow(poolingMap_2[:, :, 0]).set_cmap(\"gray\")\n",
    "ax1[0].get_xaxis().set_ticks([])\n",
    "ax1[0].get_yaxis().set_ticks([])\n",
    "ax1[0].set_title(\"Layer 2, L1-pooling1\")\n",
    "\n",
    "#显示第二层卷积层运算后第二幅图\n",
    "ax1[1].imshow(poolingMap_2[:, :, 1]).set_cmap(\"gray\")\n",
    "ax1[1].get_xaxis().set_ticks([])\n",
    "ax1[1].get_yaxis().set_ticks([])\n",
    "ax1[1].set_title(\"Layer 2, L1-pooling2\")"
   ],
   "metadata": {
    "collapsed": false,
    "pycharm": {
     "name": "#%%\n"
    }
   }
  },
  {
   "cell_type": "code",
   "execution_count": null,
   "outputs": [],
   "source": [
    "filters3 = np.random.rand(2, 7, 7)\n",
    "print('adding conv layer 3')\n",
    "feature_map_3 = conv(poolingMap_2[:,:, 0], filters3)\n",
    "print('ReLU')\n",
    "relu_map_3 = relu(feature_map_3)\n",
    "print('max pooling')\n",
    "poolingMap_3 = pooling(relu_map_3)\n",
    "print('End of conv layer 3')"
   ],
   "metadata": {
    "collapsed": false,
    "pycharm": {
     "name": "#%%\n"
    }
   }
  },
  {
   "cell_type": "code",
   "execution_count": null,
   "outputs": [],
   "source": [
    "#显示第三层卷积层运算后第一幅图\n",
    "fig1, ax1 = matplotlib.pyplot.subplots(nrows=1, ncols=2)\n",
    "\n",
    "ax1[0].imshow(poolingMap_3[:, :, 0]).set_cmap(\"gray\")\n",
    "ax1[0].get_xaxis().set_ticks([])\n",
    "ax1[0].get_yaxis().set_ticks([])\n",
    "ax1[0].set_title(\"Layer 2, L1-pooling1\")\n",
    "\n",
    "#显示第三层卷积层运算后第二幅图\n",
    "ax1[1].imshow(poolingMap_3[:, :, 1]).set_cmap(\"gray\")\n",
    "ax1[1].get_xaxis().set_ticks([])\n",
    "ax1[1].get_yaxis().set_ticks([])\n",
    "ax1[1].set_title(\"Layer 2, L1-pooling2\")"
   ],
   "metadata": {
    "collapsed": false,
    "pycharm": {
     "name": "#%%\n"
    }
   }
  }
 ],
 "metadata": {
  "kernelspec": {
   "display_name": "Python 3",
   "language": "python",
   "name": "python3"
  },
  "language_info": {
   "codemirror_mode": {
    "name": "ipython",
    "version": 3
   },
   "file_extension": ".py",
   "mimetype": "text/x-python",
   "name": "python",
   "nbconvert_exporter": "python",
   "pygments_lexer": "ipython3",
   "version": "3.7.2"
  },
  "pycharm": {
   "stem_cell": {
    "cell_type": "raw",
    "source": [],
    "metadata": {
     "collapsed": false
    }
   }
  }
 },
 "nbformat": 4,
 "nbformat_minor": 2
}